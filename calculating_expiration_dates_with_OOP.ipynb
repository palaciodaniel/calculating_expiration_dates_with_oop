{
 "cells": [
  {
   "cell_type": "markdown",
   "id": "56310332",
   "metadata": {},
   "source": [
    "# Calculating Expiration Dates with OOP (Object Oriented Programming)\n",
    "By **Daniel Palacio** (github.com/palaciodaniel) - June 2021"
   ]
  },
  {
   "cell_type": "code",
   "execution_count": 1,
   "id": "8375f80d",
   "metadata": {},
   "outputs": [
    {
     "name": "stdout",
     "output_type": "stream",
     "text": [
      "Today is June 16 2021.\n",
      "\n"
     ]
    }
   ],
   "source": [
    "from datetime import datetime, timedelta\n",
    "\n",
    "now = \"Today is \" + datetime.now().date().strftime(\"%B %d %Y\") + \".\\n\"\n",
    "print(now)"
   ]
  },
  {
   "cell_type": "markdown",
   "id": "ce3e2bc3",
   "metadata": {},
   "source": [
    "## Classes"
   ]
  },
  {
   "cell_type": "code",
   "execution_count": 2,
   "id": "97d28e3c",
   "metadata": {},
   "outputs": [],
   "source": [
    "class Product:\n",
    "\n",
    "    def __init__(self, name, year, month, day, today = datetime.now().date()):\n",
    "        self.name = name\n",
    "        self.expiration = datetime(year, month, day).date()\n",
    "        self.today = today\n",
    "    \n",
    "    def time_left(self):\n",
    "        timeleft = (self.expiration - self.today).days\n",
    "                \n",
    "        if timeleft == 0:\n",
    "            return \"This \" + self.name + \" must be consumed right now!\"\n",
    "                    \n",
    "        elif timeleft < 0:\n",
    "            return \"Sorry, this \" + self.name + \" expired \" + str(abs(timeleft)) + \" days ago.\"\n",
    "                \n",
    "        else:\n",
    "            return \"You have \" + str(timeleft) + \" days left to consume this product.\"\n",
    "                \n",
    "    def __str__(self):\n",
    "        return \"The expiration date for this \" + self.name + \" is \" + \\\n",
    "                self.expiration.strftime(\"%B %d %Y\") + \".\""
   ]
  },
  {
   "cell_type": "code",
   "execution_count": 3,
   "id": "e379b6de",
   "metadata": {},
   "outputs": [],
   "source": [
    "# For perishables, once opened they will automatically expire in three days.\n",
    "\n",
    "class Perishable(Product):\n",
    "    \n",
    "    def __init__(self, name, year, month, day, today = datetime.now().date()):\n",
    "        super().__init__(name, year, month, day, today)\n",
    "    \n",
    "    def open_product(self):\n",
    "        \n",
    "        if (self.expiration - self.today).days < 0:\n",
    "            return \"Product opened. Already expired. Do not consume.\"\n",
    "        \n",
    "        elif (self.expiration - self.today).days <= 3:\n",
    "            return \"Product opened. Expiring soon!\"\n",
    "        \n",
    "        else:\n",
    "            new_expiration = self.today + timedelta(days = 3)\n",
    "            self.expiration = new_expiration\n",
    "            return \"Product opened. Expiration date updated accordingly.\"\n",
    "    \n",
    "    def __str__(self):\n",
    "        return super().__str__()"
   ]
  },
  {
   "cell_type": "markdown",
   "id": "b52ce46c",
   "metadata": {},
   "source": [
    "- - -\n",
    "\n",
    "### Instantiations"
   ]
  },
  {
   "cell_type": "code",
   "execution_count": 4,
   "id": "a93e669d",
   "metadata": {},
   "outputs": [
    {
     "name": "stdout",
     "output_type": "stream",
     "text": [
      "Today is June 16 2021.\n",
      "\n",
      "The expiration date for this coffee is July 23 2022.\n",
      "You have 402 days left to consume this product.\n"
     ]
    }
   ],
   "source": [
    "# COFFEE\n",
    "\n",
    "print(now)\n",
    "\n",
    "coffee = Product(\"coffee\", 2022, 7, 23)\n",
    "print(coffee)\n",
    "print(coffee.time_left())"
   ]
  },
  {
   "cell_type": "code",
   "execution_count": 5,
   "id": "eb6c74e6",
   "metadata": {},
   "outputs": [
    {
     "name": "stdout",
     "output_type": "stream",
     "text": [
      "Today is June 16 2021.\n",
      "\n",
      "The expiration date for this coffee is May 23 2021.\n",
      "Sorry, this coffee expired 24 days ago.\n"
     ]
    }
   ],
   "source": [
    "# PERISHED COFFEE\n",
    "\n",
    "print(now)\n",
    "\n",
    "perished_coffee = Product(\"coffee\", 2021, 5, 23)\n",
    "print(perished_coffee)\n",
    "print(perished_coffee.time_left())"
   ]
  },
  {
   "cell_type": "code",
   "execution_count": 6,
   "id": "366ee7ab",
   "metadata": {},
   "outputs": [
    {
     "name": "stdout",
     "output_type": "stream",
     "text": [
      "Today is June 16 2021.\n",
      "\n",
      "The expiration date for this coffee is June 16 2021.\n",
      "This coffee must be consumed right now!\n"
     ]
    }
   ],
   "source": [
    "# A COFFEE THAT PERISHES TODAY\n",
    "\n",
    "print(now)\n",
    "\n",
    "coffee_perish_today = Product(\"coffee\", 2021, 6, 16)\n",
    "print(coffee_perish_today)\n",
    "print(coffee_perish_today.time_left())"
   ]
  },
  {
   "cell_type": "code",
   "execution_count": 7,
   "id": "c073ed0d",
   "metadata": {},
   "outputs": [
    {
     "name": "stdout",
     "output_type": "stream",
     "text": [
      "Today is June 16 2021.\n",
      "\n",
      "The expiration date for this milk is August 26 2021.\n",
      "You have 71 days left to consume this product. \n",
      "\n",
      "Product opened. Expiration date updated accordingly.\n",
      "You have 3 days left to consume this product.\n",
      "The expiration date for this milk is June 19 2021.\n"
     ]
    }
   ],
   "source": [
    "# MILK\n",
    "\n",
    "print(now)\n",
    "\n",
    "milk = Perishable(\"milk\", 2021, 8, 26)\n",
    "print(milk)\n",
    "print(milk.time_left(), \"\\n\")\n",
    "\n",
    "print(milk.open_product())\n",
    "print(milk.time_left())\n",
    "print(milk)"
   ]
  },
  {
   "cell_type": "code",
   "execution_count": 8,
   "id": "3c61dc6a",
   "metadata": {},
   "outputs": [
    {
     "name": "stdout",
     "output_type": "stream",
     "text": [
      "Today is June 16 2021.\n",
      "\n",
      "The expiration date for this milk is June 18 2021.\n",
      "You have 2 days left to consume this product. \n",
      "\n",
      "Product opened. Expiring soon!\n",
      "You have 2 days left to consume this product.\n",
      "The expiration date for this milk is June 18 2021.\n"
     ]
    }
   ],
   "source": [
    "# ANOTHER MILK\n",
    "\n",
    "# This one will perish tomorrow, so open_product() should not update the date in this case.\n",
    "\n",
    "print(now)\n",
    "\n",
    "almost_perished_milk = Perishable(\"milk\", 2021, 6, 18)\n",
    "print(almost_perished_milk)\n",
    "print(almost_perished_milk.time_left(), \"\\n\")\n",
    "\n",
    "print(almost_perished_milk.open_product())\n",
    "print(almost_perished_milk.time_left())\n",
    "print(almost_perished_milk)"
   ]
  },
  {
   "cell_type": "code",
   "execution_count": 9,
   "id": "0a040edc",
   "metadata": {},
   "outputs": [
    {
     "name": "stdout",
     "output_type": "stream",
     "text": [
      "Today is June 16 2021.\n",
      "\n",
      "The expiration date for this milk is June 02 2021.\n",
      "Product opened. Already expired. Do not consume.\n",
      "Sorry, this milk expired 14 days ago. \n",
      "\n"
     ]
    }
   ],
   "source": [
    "# PERISHED MILK\n",
    "\n",
    "# If we open_product(), it should tell us that it has already expired.\n",
    "\n",
    "print(now)\n",
    "\n",
    "perished_milk = Perishable(\"milk\", 2021, 6, 2)\n",
    "print(perished_milk)\n",
    "\n",
    "print(perished_milk.open_product())\n",
    "print(perished_milk.time_left(), \"\\n\")"
   ]
  }
 ],
 "metadata": {
  "kernelspec": {
   "display_name": "Python 3",
   "language": "python",
   "name": "python3"
  },
  "language_info": {
   "codemirror_mode": {
    "name": "ipython",
    "version": 3
   },
   "file_extension": ".py",
   "mimetype": "text/x-python",
   "name": "python",
   "nbconvert_exporter": "python",
   "pygments_lexer": "ipython3",
   "version": "3.8.8"
  }
 },
 "nbformat": 4,
 "nbformat_minor": 5
}
